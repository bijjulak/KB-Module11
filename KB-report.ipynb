{
 "cells": [
  {
   "cell_type": "markdown",
   "metadata": {},
   "source": [
    "# What drives the price of a car?\n",
    "\n",
    "![](images/kurt.jpeg)"
   ]
  },
  {
   "cell_type": "markdown",
   "metadata": {},
   "source": [
    "**OVERVIEW**\n",
    "\n",
    "In this application, you will explore a dataset from kaggle. The original dataset contained information on 3 million used cars. The provided dataset contains information on 426K cars to ensure speed of processing.  Your goal is to understand what factors make a car more or less expensive.  As a result of your analysis, you should provide clear recommendations to your client -- a used car dealership -- as to what consumers value in a used car."
   ]
  },
  {
   "cell_type": "markdown",
   "metadata": {},
   "source": [
    "### CRISP-DM Framework\n",
    "\n",
    "<center>\n",
    "    <img src = images/crisp.png width = 50%/>\n",
    "</center>\n",
    "\n",
    "\n",
    "To frame the task, throughout our practical applications we will refer back to a standard process in industry for data projects called CRISP-DM.  This process provides a framework for working through a data problem.  Your first step in this application will be to read through a brief overview of CRISP-DM [here](https://mo-pcco.s3.us-east-1.amazonaws.com/BH-PCMLAI/module_11/readings_starter.zip).  After reading the overview, answer the questions below."
   ]
  },
  {
   "cell_type": "markdown",
   "metadata": {},
   "source": [
    "### Business Understanding "
   ]
  },
  {
   "cell_type": "markdown",
   "metadata": {},
   "source": [
    "***\n",
    "> The objective is to use available used car sales data to provide a tool to assist the client in setting the price for the used cars in their inventory. The tool will be able to provide an understanding of what features in a car are valued by a customer and provides the client useful insight in what makes a car more or less expensive and therefore assist in pricing that will attract customers and also not leave too much money on the table for the client.\n",
    "***"
   ]
  },
  {
   "cell_type": "markdown",
   "metadata": {},
   "source": [
    "### Data Understanding"
   ]
  },
  {
   "cell_type": "markdown",
   "metadata": {},
   "source": [
    "> The dataset that is used for this application is information on the sale of 426 thousand cars in the US. The dataset has the following information:\n",
    "> 1. __id__ - generic ID for the sale\n",
    "> 2. __region__ - The region in the US where the sale took place\n",
    "> 3. __price__ - The price in US dollars that the sale took place\n",
    "> 4. __year__ - the model year of the vehicle\n",
    "> 5. __manufacturer__ - the manufacturer of the vehicle\n",
    "> 6. __model__ - the model name of the vehicle\n",
    "> 7. __condition__ - the condition of the vehicle (salvage, fair, good, like new, new, excellent)\n",
    "> 8. __cylinders__ - the number of cylinders in the vehicle engine (3,4,5,6,8,10,12)\n",
    "> 9. __fuel__ - the fuel type / energy source of the vehicle (diesel, gas, hybrid, electric, other)\n",
    "> 10. __odometer__ - the odometer reading on the vehicle in miles\n",
    "> 11. __title_status__ - the status of the title (parts only, salvage, rebuilt, missing, lien, clean)\n",
    "> 12. __transmission__ - the transission type on the vehicle (manual, automatic, other)\n",
    "> 13. __VIN__ - The vehicle identification number, a unique alphanumeric number specific to every vehicle.\n",
    "> 14. __drive__ - the drive type on the car (4wd, fwd, rwd)\n",
    "> 15. __size__ - the size of the vehicle (sub-compact, compact, mid-size, full-size)\n",
    "> 16. __type__ - the classification of the vehicle (Bus, convertible, coupe, hatchback, mini-van, offroad, other, pickup, sedan, SUV, truck, van, wagon)\n",
    "> 17. __paint_color__ - the color of the vehicle (Black, blue, brown, custom, green, grey, orange, purple, red, silver, white, yellow)\n",
    "> 18. __state__ - the US state in which the sale took place.\n",
    "\n",
    "> For the purposes of this modeling, the columns that are irrelevant are the \"id\" and the \"VIN\". However the \"VIN\" can be used to obtain data from a public database and fill in any missing data in the other columns"
   ]
  },
  {
   "cell_type": "markdown",
   "metadata": {},
   "source": [
    "### Data Preparation\n",
    "\n",
    "After our initial exploration and fine tuning of the business understanding, it is time to construct our final dataset prior to modeling.  Here, we want to make sure to handle any integrity issues and cleaning, the engineering of new features, any transformations that we believe should happen (scaling, logarithms, normalization, etc.), and general preparation for modeling with `sklearn`. "
   ]
  },
  {
   "cell_type": "markdown",
   "metadata": {},
   "source": [
    "> Opening the list using any spreadsheet software, we can see that there are several rows with missing values in certain columns. Most of the data cleaning (where missing values were determined from a public database) was done using a spreadsheet software. The following is an overview of some of the steps used to clean the list.\n",
    "> 1. Rows which had all missing values except for price were dropped from the list.\n",
    "> 2. Any entry with 0 or missing price or prices that seemed spurious were eliminated.\n",
    "> 3. Vehicles with missing VIN and missing model name were removed.\n",
    "> 4. Duplicate entries were removed.\n",
    "> 5. Weird entries such as \"Cemetry plot\" were removed.\n",
    "> 6. Entries without a manufacturer were filled in if the manufacturer was discernible. Otherwise they were removed.\n",
    "> 7. The \"id\", \"VIN\", \"region\" and \"model\" columns were dropped.\n",
    "> 8. All rows with any empty value were dropped.\n",
    "> After all the cleaning, we ar eleft with a list of approximately 58K entries.\n",
    "![](images/table1.png)"
   ]
  },
  {
   "cell_type": "markdown",
   "metadata": {},
   "source": [
    "> Plotting the price, it can be seen that doing a log transformation to this column would be suitable for modeling\n",
    "![](images/price-kde.png)"
   ]
  },
  {
   "cell_type": "markdown",
   "metadata": {},
   "source": [
    "> The dataset was divided into a train and a test set. The categorical columns were one-hot encoded and the numerical columns were normalized and scaled."
   ]
  },
  {
   "cell_type": "markdown",
   "metadata": {},
   "source": [
    "### Modeling"
   ]
  },
  {
   "cell_type": "markdown",
   "metadata": {},
   "source": [
    "> For modeling the data, two regression models were compared - Ordinary least squares and Ridge regression\n",
    "> The baseline mse for the two train and test sets are <br>\n",
    "> baseline train mse : 139705201.6738119<br>\n",
    "> baseline test mse : 155925660.4029029<br>\n",
    "> Linear regression was performed for various degrees and the best model was obtained for a degree=1<br>\n",
    "> ![](images/lreg.png)<br>\n",
    "> Calculating feature importances,<br><br>\n",
    "> condition    0.134 +/- 0.004<br>\n",
    "> year         0.101 +/- 0.002<br>\n",
    "> manufacturer 0.092 +/- 0.001<br>\n",
    "> type         0.063 +/- 0.002<br>\n",
    "> drive        0.054 +/- 0.002<br>\n",
    "> fuel         0.049 +/- 0.002<br>\n",
    "> cylinders    0.033 +/- 0.001<br>\n",
    "> state        0.021 +/- 0.001<br>\n",
    "odometer       0.021 +/- 0.002<br>\n",
    "paint_color    0.007 +/- 0.000<br>\n",
    "size           0.005 +/- 0.000<br>\n",
    "title_status   0.004 +/- 0.000<br>\n",
    "transmission   0.004 +/- 0.000<br>\n",
    "> ![](images/fimp-pl.png)<br>"
   ]
  },
  {
   "cell_type": "markdown",
   "metadata": {},
   "source": [
    "> With Ridge regresion, the best alpha obtained after doing a grid search was practically zero. So the better model for this application is Linear Regression <br>\n",
    "Train_mse = 7.789860e+07<br>\n",
    "Test_mse = 8.420848e+07<br>\n",
    "Best_alpha = 4.641589e-08<br>\n",
    "> ![](images/ridge.png)<br>"
   ]
  },
  {
   "cell_type": "markdown",
   "metadata": {},
   "source": [
    "### Evaluation"
   ]
  },
  {
   "cell_type": "markdown",
   "metadata": {},
   "source": [
    "> From the model, it is clear that the condition of the car plays the most important role on settign the price. However this result may have been skewed when we set all the empty cells to a default value of \"good\".<br>\n",
    "The next two features that set the price are \"model year\" and \"manufacturer\". This is obvious in that a newer car is more valuable than an older model. And a luxury brand will command a higher price than a non-luxury brand.<br>\n",
    "Of course the model can be forced to include model which may play a bigger role, but the computation required to model so many features will be enormous."
   ]
  },
  {
   "cell_type": "markdown",
   "metadata": {},
   "source": [
    "### Deployment\n",
    "\n",
    "Now that we've settled on our models and findings, it is time to deliver the information to the client.  You should organize your work as a basic report that details your primary findings.  Keep in mind that your audience is a group of used car dealers interested in fine tuning their inventory."
   ]
  },
  {
   "cell_type": "code",
   "execution_count": null,
   "metadata": {},
   "outputs": [],
   "source": []
  }
 ],
 "metadata": {
  "kernelspec": {
   "display_name": "Python 3 (ipykernel)",
   "language": "python",
   "name": "python3"
  },
  "language_info": {
   "codemirror_mode": {
    "name": "ipython",
    "version": 3
   },
   "file_extension": ".py",
   "mimetype": "text/x-python",
   "name": "python",
   "nbconvert_exporter": "python",
   "pygments_lexer": "ipython3",
   "version": "3.11.5"
  },
  "widgets": {
   "application/vnd.jupyter.widget-state+json": {
    "state": {},
    "version_major": 2,
    "version_minor": 0
   }
  }
 },
 "nbformat": 4,
 "nbformat_minor": 4
}
